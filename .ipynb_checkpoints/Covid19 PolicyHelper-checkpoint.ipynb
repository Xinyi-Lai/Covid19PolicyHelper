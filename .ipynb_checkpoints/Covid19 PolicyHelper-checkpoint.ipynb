{
 "cells": [
  {
   "cell_type": "code",
   "execution_count": 1,
   "metadata": {},
   "outputs": [],
   "source": [
    "import pandas as pd\n",
    "import numpy as np\n",
    "import pylab as plt\n",
    "import datetime\n",
    "\n",
    "import scipy.optimize as spo\n",
    "import scipy.integrate as spi"
   ]
  },
  {
   "cell_type": "markdown",
   "metadata": {},
   "source": [
    "## Data Preprocessing"
   ]
  },
  {
   "cell_type": "markdown",
   "metadata": {},
   "source": [
    "We are interested in the state-level data in United States"
   ]
  },
  {
   "cell_type": "code",
   "execution_count": 2,
   "metadata": {},
   "outputs": [
    {
     "name": "stderr",
     "output_type": "stream",
     "text": [
      "/Users/xinyi/anaconda3/lib/python3.7/site-packages/IPython/core/interactiveshell.py:3057: DtypeWarning: Columns (5) have mixed types. Specify dtype option on import or set low_memory=False.\n",
      "  interactivity=interactivity, compiler=compiler, result=result)\n"
     ]
    }
   ],
   "source": [
    "df = pd.read_csv(\"datasets/timeseries.csv\")\n",
    "df_US = df[(df[\"country\"]==\"United States\") & (df[\"level\"]==\"state\")]\n",
    "df_US = df_US[[\"state\", \"population\", \"cases\", \"deaths\", \"recovered\", \"active\", \"tested\", \"hospitalized\", \"date\"]]"
   ]
  },
  {
   "cell_type": "code",
   "execution_count": 3,
   "metadata": {},
   "outputs": [],
   "source": [
    "states = np.unique(df_US[\"state\"])\n",
    "for state in states:\n",
    "    df_US[df_US[\"state\"]==state].to_csv(\"datasets/timeseries_states/\"+state+\".csv\", index=0)"
   ]
  },
  {
   "cell_type": "code",
   "execution_count": null,
   "metadata": {},
   "outputs": [],
   "source": []
  },
  {
   "cell_type": "markdown",
   "metadata": {},
   "source": [
    "## SEIR Infection Model\n",
    "\n",
    "![title](model.png)"
   ]
  },
  {
   "cell_type": "markdown",
   "metadata": {},
   "source": [
    "We can use an SEIR model to describe the transmission dynamics of Covid19 as above.\n",
    "\n",
    "Assume...\n",
    "\n",
    "E can infect S with an infection rate of $\\lambda_E$;\n",
    "Q can infect S with a different infection rate of $\\lambda_Q$;\n",
    "H can not infect S because they are in the hospital.\n",
    "\n",
    "$\\begin{aligned}\n",
    "& \\frac{dS}{dt} = - \\lambda_E \\frac{S}{N} E - \\lambda_Q \\frac{S}{N} Q + \\alpha R \\\\\n",
    "& \\frac{dE}{dt} =   \\lambda_E \\frac{S}{N} E + \\lambda_Q \\frac{S}{N} Q - \\sigma E \\\\\n",
    "& \\frac{dI}{dt} = \\sigma E - \\mu I - \\omega I \\\\\n",
    "& \\frac{dX}{dt} = \\omega I \\\\\n",
    "& \\frac{dR}{dt} = \\mu I - \\alpha R \\\\\n",
    "& S + E + I + R + X = N,~ I = Q + H\n",
    "\\end{aligned}$"
   ]
  },
  {
   "cell_type": "code",
   "execution_count": 4,
   "metadata": {},
   "outputs": [
    {
     "data": {
      "text/html": [
       "<div>\n",
       "<style scoped>\n",
       "    .dataframe tbody tr th:only-of-type {\n",
       "        vertical-align: middle;\n",
       "    }\n",
       "\n",
       "    .dataframe tbody tr th {\n",
       "        vertical-align: top;\n",
       "    }\n",
       "\n",
       "    .dataframe thead th {\n",
       "        text-align: right;\n",
       "    }\n",
       "</style>\n",
       "<table border=\"1\" class=\"dataframe\">\n",
       "  <thead>\n",
       "    <tr style=\"text-align: right;\">\n",
       "      <th></th>\n",
       "      <th>state</th>\n",
       "      <th>population</th>\n",
       "      <th>cases</th>\n",
       "      <th>deaths</th>\n",
       "      <th>recovered</th>\n",
       "      <th>active</th>\n",
       "      <th>tested</th>\n",
       "      <th>hospitalized</th>\n",
       "      <th>date</th>\n",
       "    </tr>\n",
       "  </thead>\n",
       "  <tbody>\n",
       "    <tr>\n",
       "      <th>3</th>\n",
       "      <td>New York</td>\n",
       "      <td>19453561</td>\n",
       "      <td>NaN</td>\n",
       "      <td>NaN</td>\n",
       "      <td>NaN</td>\n",
       "      <td>NaN</td>\n",
       "      <td>NaN</td>\n",
       "      <td>NaN</td>\n",
       "      <td>2020-01-27</td>\n",
       "    </tr>\n",
       "    <tr>\n",
       "      <th>51</th>\n",
       "      <td>New York</td>\n",
       "      <td>19453561</td>\n",
       "      <td>729.0</td>\n",
       "      <td>3.0</td>\n",
       "      <td>NaN</td>\n",
       "      <td>NaN</td>\n",
       "      <td>5272.0</td>\n",
       "      <td>NaN</td>\n",
       "      <td>2020-03-15</td>\n",
       "    </tr>\n",
       "    <tr>\n",
       "      <th>60</th>\n",
       "      <td>New York</td>\n",
       "      <td>19453561</td>\n",
       "      <td>25665.0</td>\n",
       "      <td>210.0</td>\n",
       "      <td>NaN</td>\n",
       "      <td>NaN</td>\n",
       "      <td>91270.0</td>\n",
       "      <td>4041.0</td>\n",
       "      <td>2020-03-24</td>\n",
       "    </tr>\n",
       "    <tr>\n",
       "      <th>90</th>\n",
       "      <td>New York</td>\n",
       "      <td>19453561</td>\n",
       "      <td>263460.0</td>\n",
       "      <td>15740.0</td>\n",
       "      <td>44244.0</td>\n",
       "      <td>NaN</td>\n",
       "      <td>695920.0</td>\n",
       "      <td>70182.0</td>\n",
       "      <td>2020-04-23</td>\n",
       "    </tr>\n",
       "    <tr>\n",
       "      <th>188</th>\n",
       "      <td>New York</td>\n",
       "      <td>19453561</td>\n",
       "      <td>414370.0</td>\n",
       "      <td>25145.0</td>\n",
       "      <td>72973.0</td>\n",
       "      <td>NaN</td>\n",
       "      <td>5820368.0</td>\n",
       "      <td>89995.0</td>\n",
       "      <td>2020-07-30</td>\n",
       "    </tr>\n",
       "  </tbody>\n",
       "</table>\n",
       "</div>"
      ],
      "text/plain": [
       "        state  population     cases   deaths  recovered  active     tested  \\\n",
       "3    New York    19453561       NaN      NaN        NaN     NaN        NaN   \n",
       "51   New York    19453561     729.0      3.0        NaN     NaN     5272.0   \n",
       "60   New York    19453561   25665.0    210.0        NaN     NaN    91270.0   \n",
       "90   New York    19453561  263460.0  15740.0    44244.0     NaN   695920.0   \n",
       "188  New York    19453561  414370.0  25145.0    72973.0     NaN  5820368.0   \n",
       "\n",
       "     hospitalized        date  \n",
       "3             NaN  2020-01-27  \n",
       "51            NaN  2020-03-15  \n",
       "60         4041.0  2020-03-24  \n",
       "90        70182.0  2020-04-23  \n",
       "188       89995.0  2020-07-30  "
      ]
     },
     "execution_count": 4,
     "metadata": {},
     "output_type": "execute_result"
    },
    {
     "data": {
      "image/png": "[encoded data removed]",
      "text/plain": [
       "<Figure size 432x288 with 1 Axes>"
      ]
     },
     "metadata": {
      "needs_background": "light"
     },
     "output_type": "display_data"
    }
   ],
   "source": [
    "### Example\n",
    "\n",
    "state = \"New York\"\n",
    "df_state = pd.read_csv(\"datasets/timeseries_states/\"+state+\".csv\")\n",
    "\n",
    "plt.figure()\n",
    "plt.plot(df_state[\"cases\"], label=\"cases\")\n",
    "plt.plot(df_state[\"deaths\"], label=\"deaths\")\n",
    "plt.plot(df_state[\"recovered\"], label=\"recovered\")\n",
    "plt.title(\"New York\")\n",
    "plt.legend();\n",
    "df_state.sample(5).sort_values(\"date\")"
   ]
  },
  {
   "cell_type": "code",
   "execution_count": 5,
   "metadata": {},
   "outputs": [
    {
     "name": "stdout",
     "output_type": "stream",
     "text": [
      "NA cols:  ['active']\n",
      "suggested start date after 2020-03-27\n"
     ]
    }
   ],
   "source": [
    "### data cleaning\n",
    "\n",
    "# some col is missing in some state's report\n",
    "na_cols = []\n",
    "for col in df_state.columns.values:\n",
    "    if df_state[col].isna().all():\n",
    "        na_cols.append(col)\n",
    "print(\"NA cols: \", na_cols)\n",
    "\n",
    "for col in na_cols:\n",
    "    df_state = df_state.drop(col, axis=1)\n",
    "\n",
    "# some data is missing at the beginning of the outbreak\n",
    "ncols = len(df_state.columns.values)\n",
    "for i in range(len(df_state.index)):\n",
    "    if df_state.iloc[i].notna().all():\n",
    "        print(\"suggested start date after\", df_state.iloc[i][\"date\"])\n",
    "        break\n",
    "\n",
    "df_state[\"date\"] = pd.to_datetime(df_state[\"date\"])"
   ]
  },
  {
   "cell_type": "code",
   "execution_count": 6,
   "metadata": {},
   "outputs": [],
   "source": [
    "start_date = np.datetime64('2020-04-01')\n",
    "end_date = np.datetime64('2020-04-14')\n",
    "\n",
    "sample = df_state[ (df_state[\"date\"] >= start_date) & (df_state[\"date\"] <= end_date) ]\n",
    "sample = sample.fillna(0) # do nothing\n",
    "# sample"
   ]
  },
  {
   "cell_type": "markdown",
   "metadata": {},
   "source": [
    "For simplicity, we assume $Q = kI$. Hence,\n",
    "\n",
    "$\\begin{aligned}\n",
    "& \\frac{dS}{dt} = - \\lambda_E \\frac{S}{N} E - \\lambda_Q \\frac{S}{N} kI + \\alpha R \\\\\n",
    "& \\frac{dE}{dt} =   \\lambda_E \\frac{S}{N} E + \\lambda_Q \\frac{S}{N} kI - \\sigma E \\\\\n",
    "& \\frac{dI}{dt} = \\sigma E - \\mu I - \\omega I \\\\\n",
    "& \\frac{dX}{dt} = \\omega I \\\\\n",
    "& \\frac{dR}{dt} = \\mu I - \\alpha R \\\\\n",
    "& S + E + I + R + X = N \\\\\n",
    "\\end{aligned}$\n",
    "\n",
    "$ R = recovered,~ X = deaths,~ I = test\\_pos - deaths - recovered,~ S + E = N - I - R - X,\\\\\n",
    "k = 1 - avg(\\frac{\\Delta hospitalized}{\\Delta test\\_pos})\n",
    "$"
   ]
  },
  {
   "cell_type": "code",
   "execution_count": null,
   "metadata": {},
   "outputs": [],
   "source": []
  },
  {
   "cell_type": "code",
   "execution_count": null,
   "metadata": {},
   "outputs": [],
   "source": []
  },
  {
   "cell_type": "code",
   "execution_count": null,
   "metadata": {},
   "outputs": [],
   "source": []
  },
  {
   "cell_type": "code",
   "execution_count": null,
   "metadata": {},
   "outputs": [],
   "source": [
    "cases = np.array(list(sample[\"cases\"])) # test_positive\n",
    "deaths = np.array(list(sample[\"deaths\"])) # X\n",
    "recovered = np.array(list(sample[\"recovered\"])) # R\n",
    "\n",
    "N = np.mean(df_state[\"population\"])\n",
    "\n",
    "hospitalized = np.array(list(sample[\"hospitalized\"]))\n",
    "k = 1 - np.mean( (hospitalized[1:]-hospitalized[0:-1]) / (cases[1:]-cases[:-1]) )"
   ]
  },
  {
   "cell_type": "code",
   "execution_count": null,
   "metadata": {},
   "outputs": [],
   "source": [
    "### SIR infection model\n",
    "# s - susceptible = population - i - x - r\n",
    "# i - infected    = cases - deaths - recovered\n",
    "# x - dead        = deaths\n",
    "# r - recovered   = recovered\n",
    "X = deaths\n",
    "R = recovered\n",
    "I = cases - deaths - recovered\n",
    "S = N - I - X - R\n",
    "\n",
    "dS = S[1:] - S[:-1]\n",
    "dI = I[1:] - I[:-1]\n",
    "dX = X[1:] - X[:-1]\n",
    "dR = R[1:] - R[:-1]\n",
    "\n",
    "S = S[:-1]\n",
    "I = I[:-1]\n",
    "X = X[:-1]\n",
    "R = R[:-1]"
   ]
  },
  {
   "cell_type": "code",
   "execution_count": null,
   "metadata": {},
   "outputs": [],
   "source": [
    "### differential equations\n",
    "\n",
    "# s --lambda--> i \n",
    "# x <--omega-- i --miu--> r\n",
    "# r --alpha--> s\n",
    "# N = s + i + x + r\n",
    "\n",
    "# ds/dt = - lamda*s/N*i + alpha*r\n",
    "# di/dt = lamda*s/N*i - miu*i - omega*i\n",
    "# dx/dt = omega*i\n",
    "# dr/dt = miu*i - alpha*r\n",
    "\n",
    "# INP - initial point, t - time range\n",
    "# for spi.odeint\n",
    "def diff_eqs(INP, t, lamda, miu, alpha, omega):\n",
    "    Y = np.zeros((4))\n",
    "    V = INP\n",
    "    Y[0] = - lamda*V[0]*V[1]/N + alpha*V[3]\n",
    "    Y[1] = lamda*V[0]*V[1]/N - miu*V[1] - omega*V[1]\n",
    "    Y[2] = omega*V[1]\n",
    "    Y[3] = miu*V[1] - alpha*V[3]\n",
    "    return Y"
   ]
  },
  {
   "cell_type": "code",
   "execution_count": null,
   "metadata": {},
   "outputs": [],
   "source": [
    "def diff_eqs(INP, t, lamda, miu, omega):\n",
    "    Y = np.zeros((4))\n",
    "    V = INP\n",
    "    alpha = 0.006\n",
    "    Y[0] = - lamda*V[0]*V[1]/N + alpha*V[3]\n",
    "    Y[1] = lamda*V[0]*V[1]/N - miu*V[1] - omega*V[1]\n",
    "    Y[2] = omega*V[1]\n",
    "    Y[3] = miu*V[1] - alpha*V[3]\n",
    "    return Y"
   ]
  },
  {
   "cell_type": "code",
   "execution_count": null,
   "metadata": {},
   "outputs": [],
   "source": [
    "### find the best params\n",
    "\n",
    "# first guess of params\n",
    "omega0 = np.mean(dX / I) # dx/dt = omega*i\n",
    "alpha0 = 0.006\n",
    "miu0 = np.mean((dR + alpha0*R) / I) # dr/dt = miu*i - alpha*r\n",
    "lamda0 = np.mean(-(dS - alpha0*R) / S * N / I) # ds/dt = - lamda*s/N*i + alpha*r\n",
    "#params0 = (lamda0, miu0, alpha0, omega0)\n",
    "params0 = (lamda0, miu0, omega0)\n",
    "\n",
    "def MSE(params):\n",
    "    INP = (S[0], I[0], X[0], R[0])\n",
    "    t_range = np.arange(0, len(S), 1)\n",
    "    #lamda, miu, alpha, omega = tuple(params)\n",
    "    RES = spi.odeint(diff_eqs, INP, t_range, args=tuple(params))\n",
    "    \n",
    "    mse = 0\n",
    "    for i in range(len(S)):\n",
    "        mse += ( (RES[i,0] - S[i]) ) **2\n",
    "        mse += ( (RES[i,1] - I[i]) ) **2\n",
    "        mse += ( (RES[i,2] - X[i]) ) **2\n",
    "        mse += ( (RES[i,3] - R[i]) ) **2\n",
    "    mse = mse / len(S)\n",
    "    return mse\n",
    "\n",
    "ret = spo.minimize(MSE, params0, bounds=[(0,1), (0,1), (0,1)])\n",
    "params = ret.x\n",
    "\n",
    "print(params0)\n",
    "print(params)\n",
    "# print(ret)"
   ]
  },
  {
   "cell_type": "code",
   "execution_count": null,
   "metadata": {},
   "outputs": [],
   "source": []
  },
  {
   "cell_type": "code",
   "execution_count": null,
   "metadata": {},
   "outputs": [],
   "source": [
    "# solve ode numerically\n",
    "\n",
    "INP = (S[0], I[0], X[0], R[0])\n",
    "t_range = np.arange(0, len(S)*50, 1)\n",
    "RES = spi.odeint(diff_eqs, INP, t_range, args=tuple(params))\n",
    "\n",
    "# plot\n",
    "fig, ax1 = plt.subplots()\n",
    "#ax1.plot(RES[:,0], '-b', label='susceptible') \n",
    "ax1.plot(RES[:,1], '-r', label='infected')\n",
    "ax1.plot(RES[:,2], '-k', label='dead')\n",
    "ax1.plot(RES[:,3], '-g', label = 'recovered' )\n",
    "\n",
    "#ax1.plot(S, \"xb\", label=\"S\")\n",
    "ax1.plot(I, \"xr\", label=\"I\")\n",
    "ax1.plot(X, \"xk\", label=\"X\")\n",
    "ax1.plot(R, \"xg\", label=\"R\")\n",
    "\n",
    "ax1.grid()\n",
    "ax1.set_xlabel('Time', fontsize = 12)\n",
    "ax1.set_ylabel('number of people', fontsize = 12)\n",
    "ax1.legend(loc=0)\n",
    "plt.title('New York 20200401 - 20200415\\n',fontsize = 14)\n",
    "plt.show();"
   ]
  },
  {
   "cell_type": "code",
   "execution_count": null,
   "metadata": {},
   "outputs": [],
   "source": [
    "params00 = (params[0], 0.056, params[2] )\n",
    "params00"
   ]
  },
  {
   "cell_type": "code",
   "execution_count": null,
   "metadata": {
    "scrolled": true
   },
   "outputs": [],
   "source": [
    "print(params0)\n",
    "print(params)"
   ]
  },
  {
   "cell_type": "code",
   "execution_count": null,
   "metadata": {},
   "outputs": [],
   "source": [
    "1 - (1 - (1-params[2])**30) ** (1/30)\n",
    "\n",
    "# (1 - miu)**30 + (1 - omega)**30 = 1"
   ]
  },
  {
   "cell_type": "code",
   "execution_count": null,
   "metadata": {},
   "outputs": [],
   "source": [
    "# solve ode numerically\n",
    "\n",
    "INP = (S[0], I[0], X[0], R[0])\n",
    "t_range = np.arange(0, len(S)*150, 1)\n",
    "RES = spi.odeint(diff_eqs, INP, t_range, args=tuple(params00))\n",
    "\n",
    "# plot\n",
    "fig, ax1 = plt.subplots()\n",
    "#ax1.plot(RES[:,0], '-b', label='susceptible') \n",
    "ax1.plot(RES[:,1], '-r', label='infected')\n",
    "ax1.plot(RES[:,2], '-k', label='dead')\n",
    "ax1.plot(RES[:,3], '-g', label = 'recovered' )\n",
    "\n",
    "#ax1.plot(S, \"xb\", label=\"S\")\n",
    "ax1.plot(I, \"xr\", label=\"I\")\n",
    "ax1.plot(X, \"xk\", label=\"X\")\n",
    "ax1.plot(R, \"xg\", label=\"R\")\n",
    "\n",
    "ax1.grid()\n",
    "ax1.set_xlabel('Time', fontsize = 12)\n",
    "ax1.set_ylabel('number of people', fontsize = 12)\n",
    "ax1.legend(loc=0)\n",
    "plt.title('New York 20200401 - 20200415\\n',fontsize = 14)\n",
    "plt.show();"
   ]
  },
  {
   "cell_type": "code",
   "execution_count": null,
   "metadata": {},
   "outputs": [],
   "source": []
  },
  {
   "cell_type": "code",
   "execution_count": null,
   "metadata": {},
   "outputs": [],
   "source": []
  },
  {
   "cell_type": "markdown",
   "metadata": {},
   "source": []
  },
  {
   "cell_type": "markdown",
   "metadata": {},
   "source": []
  },
  {
   "cell_type": "markdown",
   "metadata": {},
   "source": []
  },
  {
   "cell_type": "code",
   "execution_count": null,
   "metadata": {},
   "outputs": [],
   "source": []
  }
 ],
 "metadata": {
  "kernelspec": {
   "display_name": "Python 3",
   "language": "python",
   "name": "python3"
  },
  "language_info": {
   "codemirror_mode": {
    "name": "ipython",
    "version": 3
   },
   "file_extension": ".py",
   "mimetype": "text/x-python",
   "name": "python",
   "nbconvert_exporter": "python",
   "pygments_lexer": "ipython3",
   "version": "3.7.3"
  }
 },
 "nbformat": 4,
 "nbformat_minor": 2
}
